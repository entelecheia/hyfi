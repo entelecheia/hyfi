{
 "cells": [
  {
   "attachments": {},
   "cell_type": "markdown",
   "metadata": {
    "id": "cjgz1WTcPWee"
   },
   "source": [
    "# HyFI Test Notebook\n",
    "\n",
    "This Jupyter Notebook is used to test the HyFI package. It contains examples of how to use the package and how to create a new HyFI model.\n"
   ]
  },
  {
   "cell_type": "code",
   "execution_count": null,
   "metadata": {},
   "outputs": [],
   "source": [
    "from hyfi import HyFI\n"
   ]
  },
  {
   "attachments": {},
   "cell_type": "markdown",
   "metadata": {},
   "source": [
    "## Check Version\n",
    "\n",
    "Now, let's get the version of the `hyfi` package.\n"
   ]
  },
  {
   "cell_type": "code",
   "execution_count": null,
   "metadata": {
    "id": "BzxPwsOVPWef"
   },
   "outputs": [],
   "source": [
    "version = HyFI.__version__\n",
    "print(\"HyFI version:\", version)\n",
    "version = HyFI().app_version\n",
    "print(\"HyFI app version:\", version)\n",
    "HyFI.print_about()"
   ]
  },
  {
   "cell_type": "code",
   "execution_count": null,
   "metadata": {},
   "outputs": [],
   "source": [
    "# Test expanding $PWD and $USER variables\n",
    "posix_expr = \"The system workspace root is $WORKSPACE_ROOT and the user is $USER.\"\n",
    "\n",
    "expanded_expr = HyFI.expand_posix_vars(posix_expr)\n",
    "print(expanded_expr)"
   ]
  },
  {
   "attachments": {},
   "cell_type": "markdown",
   "metadata": {},
   "source": [
    "## Initialize Project\n",
    "\n",
    "We'll initialize the project using the `HyFI.initialize` function. The function takes the following parameters:\n",
    "\n",
    "-   `project_name`: Name of the project to use.\n",
    "-   `project_description`: Description of the project that will be used.\n",
    "-   `project_root`: Root directory of the project.\n",
    "-   `project_workspace_name`: Name of the project's workspace directory.\n",
    "-   `global_hyfi_root`: Root directory of the global hyfi.\n",
    "-   `global_workspace_name`: Name of the global hierachical workspace directory.\n",
    "-   `num_workers`: Number of workers to run.\n",
    "-   `logging_level`: Log level for the log.\n",
    "-   `autotime`: Whether to automatically set time and / or keep track of run times.\n",
    "-   `retina`: Whether to use retina or not.\n",
    "-   `verbose`: Enables or disables logging\n",
    "\n",
    "We'll check if we're running in Google Colab, and if so, we'll mount Google Drive.\n"
   ]
  },
  {
   "cell_type": "code",
   "execution_count": null,
   "metadata": {},
   "outputs": [],
   "source": [
    "if HyFI.is_colab():\n",
    "    HyFI.mount_google_drive()\n",
    "\n",
    "h = HyFI.initialize(\n",
    "    project_name=\"hyfi\",\n",
    "    logging_level=\"DEBUG\",\n",
    "    user_config_path=HyFI.Env().DOTENV_DIR + \"/config\",\n",
    "    verbose=True,\n",
    ")\n",
    "\n",
    "print(\"project_dir:\", h.project.root_dir)\n",
    "print(\"project_workspace_dir:\", h.project.workspace_dir)"
   ]
  },
  {
   "cell_type": "markdown",
   "metadata": {},
   "source": [
    "The following config exists in the user config folder. If you do not provide a user config path in the initialize method, then, you can not access the configs in the user config folder.\n"
   ]
  },
  {
   "cell_type": "code",
   "execution_count": null,
   "metadata": {},
   "outputs": [],
   "source": [
    "cfg = HyFI.compose(\"workflow=__test__\")"
   ]
  },
  {
   "cell_type": "code",
   "execution_count": null,
   "metadata": {},
   "outputs": [],
   "source": [
    "h.project.env.model_dump()"
   ]
  },
  {
   "attachments": {},
   "cell_type": "markdown",
   "metadata": {},
   "source": [
    "## Compose Configuration\n",
    "\n",
    "We can use the `HyFI.compose` function to load a configuration file. In this example, we'll use the default workflow configuration file.\n"
   ]
  },
  {
   "cell_type": "code",
   "execution_count": null,
   "metadata": {},
   "outputs": [],
   "source": [
    "cfg = HyFI.compose(\"workflow=__init__\")"
   ]
  },
  {
   "attachments": {},
   "cell_type": "markdown",
   "metadata": {},
   "source": [
    "## Display Configuration\n",
    "\n",
    "Now, let's print the loaded configuration using the `HyFI.print` function.\n"
   ]
  },
  {
   "cell_type": "code",
   "execution_count": null,
   "metadata": {},
   "outputs": [],
   "source": [
    "HyFI.print(cfg)"
   ]
  },
  {
   "attachments": {},
   "cell_type": "markdown",
   "metadata": {},
   "source": [
    "That's it! This example demonstrated the basic usage of the `hyfi_template` package. You can now use this package to manage your own projects and tasks in a structured manner.\n"
   ]
  }
 ],
 "metadata": {
  "colab": {
   "name": "corpus.ipynb",
   "provenance": []
  },
  "interpreter": {
   "hash": "f869af7787e6a1c49e09e367fc6e1b81d93d1c6583b43249c80edc047bd13cb2"
  },
  "kernelspec": {
   "display_name": "Python 3",
   "language": "python",
   "name": "python3"
  },
  "language_info": {
   "codemirror_mode": {
    "name": "ipython",
    "version": 3
   },
   "file_extension": ".py",
   "mimetype": "text/x-python",
   "name": "python",
   "nbconvert_exporter": "python",
   "pygments_lexer": "ipython3",
   "version": "3.8.10"
  },
  "widgets": {
   "application/vnd.jupyter.widget-state+json": {
    "state": {},
    "version_major": 2,
    "version_minor": 0
   }
  }
 },
 "nbformat": 4,
 "nbformat_minor": 1
}
