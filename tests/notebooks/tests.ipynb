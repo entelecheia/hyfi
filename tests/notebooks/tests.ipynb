{
 "cells": [
  {
   "attachments": {},
   "cell_type": "markdown",
   "metadata": {
    "id": "cjgz1WTcPWee"
   },
   "source": [
    "# HyFI Test Notebook\n",
    "\n",
    "This Jupyter Notebook is used to test the HyFI package. It contains examples of how to use the package and how to create a new HyFI model.\n"
   ]
  },
  {
   "cell_type": "code",
   "execution_count": 1,
   "metadata": {},
   "outputs": [
    {
     "name": "stderr",
     "output_type": "stream",
     "text": [
      "/home/yj.lee/.venvs/hyfi/lib/python3.8/site-packages/tqdm/auto.py:21: TqdmWarning: IProgress not found. Please update jupyter and ipywidgets. See https://ipywidgets.readthedocs.io/en/stable/user_install.html\n",
      "  from .autonotebook import tqdm as notebook_tqdm\n"
     ]
    }
   ],
   "source": [
    "from hyfi.main import HyFI"
   ]
  },
  {
   "attachments": {},
   "cell_type": "markdown",
   "metadata": {},
   "source": [
    "## Check Version\n",
    "\n",
    "Now, let's get the version of the `hyfi` package.\n"
   ]
  },
  {
   "cell_type": "code",
   "execution_count": 2,
   "metadata": {
    "id": "BzxPwsOVPWef"
   },
   "outputs": [
    {
     "name": "stdout",
     "output_type": "stream",
     "text": [
      "HyFI version: 0.5.1\n"
     ]
    }
   ],
   "source": [
    "version = HyFI.__version__\n",
    "print(\"HyFI version:\", version)"
   ]
  },
  {
   "cell_type": "code",
   "execution_count": 3,
   "metadata": {},
   "outputs": [
    {
     "data": {
      "text/plain": [
       "{'config_name': '__init__',\n",
       " 'DOTENV_FILENAME': '.env',\n",
       " 'DOTENV_DIR': '/workspace/projects/hyfi',\n",
       " 'DOTENV_PATH': '/workspace/projects/hyfi/.env',\n",
       " 'HYFI_RESOURCE_DIR': '',\n",
       " 'HYFI_GLOBAL_ROOT': '',\n",
       " 'HYFI_GLOBAL_WORKSPACE_NAME': 'workspace',\n",
       " 'HYFI_PROJECT_NAME': 'test-project',\n",
       " 'HYFI_TASK_NAME': 'test-task',\n",
       " 'HYFI_PROJECT_DESC': '',\n",
       " 'HYFI_PROJECT_ROOT': '',\n",
       " 'HYFI_PROJECT_WORKSPACE_NAME': 'workspace',\n",
       " 'HYFI_LOG_LEVEL': 'DEBUG',\n",
       " 'HYFI_VERBOSE': False,\n",
       " 'HYFI_NUM_WORKERS': 1,\n",
       " 'CACHED_PATH_CACHE_ROOT': '',\n",
       " 'CUDA_DEVICE_ORDER': 'PCI_BUS_ID',\n",
       " 'CUDA_VISIBLE_DEVICES': '',\n",
       " 'WANDB_PROJECT': '',\n",
       " 'WANDB_DISABLED': '',\n",
       " 'WANDB_DIR': '',\n",
       " 'WANDB_NOTEBOOK_NAME': '',\n",
       " 'WANDB_SILENT': False,\n",
       " 'LABEL_STUDIO_SERVER': '',\n",
       " 'KMP_DUPLICATE_LIB_OK': 'True',\n",
       " 'TOKENIZERS_PARALLELISM': False,\n",
       " 'WANDB_API_KEY': None,\n",
       " 'HUGGING_FACE_HUB_TOKEN': None,\n",
       " 'OPENAI_API_KEY': SecretStr('**********'),\n",
       " 'ECOS_API_KEY': None,\n",
       " 'FRED_API_KEY': None,\n",
       " 'NASDAQ_API_KEY': None,\n",
       " 'HF_USER_ACCESS_TOKEN': None,\n",
       " 'LABEL_STUDIO_USER_TOKEN': None}"
      ]
     },
     "execution_count": 3,
     "metadata": {},
     "output_type": "execute_result"
    }
   ],
   "source": [
    "HyFI.envs().dict()"
   ]
  },
  {
   "cell_type": "code",
   "execution_count": 4,
   "metadata": {},
   "outputs": [
    {
     "name": "stdout",
     "output_type": "stream",
     "text": [
      "The system workspace root is /workspace and the user is yj.lee.\n"
     ]
    }
   ],
   "source": [
    "# Test expanding $PWD and $USER variables\n",
    "posix_expr = \"The system workspace root is $WORKSPACE_ROOT and the user is $USER.\"\n",
    "\n",
    "expanded_expr = HyFI.expand_posix_vars(posix_expr)\n",
    "print(expanded_expr)"
   ]
  },
  {
   "attachments": {},
   "cell_type": "markdown",
   "metadata": {},
   "source": [
    "## Initialize Workspace\n",
    "\n",
    "We'll initialize the workspace using the `HyFI.init_workspace` function. The function takes the following parameters:\n",
    "\n",
    "- `project`: The project subdirectory.\n",
    "- `task`: The specific task within the project.\n",
    "- `project_root`: The root workspace directory.\n",
    "- `log_level`: Logging level for the workspace.\n",
    "- `verbose`: Whether to print verbose messages.\n",
    "\n",
    "We'll check if we're running in Google Colab, and if so, we'll mount Google Drive.\n"
   ]
  },
  {
   "cell_type": "code",
   "execution_count": 5,
   "metadata": {},
   "outputs": [
    {
     "name": "stderr",
     "output_type": "stream",
     "text": [
      "INFO:hyfi.utils.notebook:Extension autotime not found. Install it first.\n",
      "DEBUG:matplotlib:matplotlib data path: /home/yj.lee/.venvs/hyfi/lib/python3.8/site-packages/matplotlib/mpl-data\n",
      "DEBUG:matplotlib:CONFIGDIR=/home/yj.lee/.config/matplotlib\n",
      "DEBUG:matplotlib:interactive is False\n",
      "DEBUG:matplotlib:platform is linux\n",
      "DEBUG:matplotlib:CACHEDIR=/home/yj.lee/.cache/matplotlib\n",
      "DEBUG:matplotlib.font_manager:Using fontManager instance from /home/yj.lee/.cache/matplotlib/fontlist-v330.json\n",
      "DEBUG:matplotlib.pyplot:Loaded backend module://matplotlib_inline.backend_inline version unknown.\n",
      "DEBUG:hyfi.env:config_module: hyfi.conf\n",
      "DEBUG:hyfi.env:compose config with overrides: ['+project=__init__']\n",
      "DEBUG:hydra.core.utils:Setting JobRuntime:name=app\n",
      "DEBUG:hyfi.env:Composed config: project:\n",
      "  dotenv:\n",
      "    DOTENV_FILENAME: .env\n",
      "    DOTENV_DIR: /workspace/projects/hyfi/tests/notebooks\n",
      "    DOTENV_PATH: /workspace/projects/hyfi/tests/notebooks/.env\n",
      "    HYFI_RESOURCE_DIR: null\n",
      "    HYFI_GLOBAL_ROOT: null\n",
      "    HYFI_GLOBAL_WORKSPACE_NAME: null\n",
      "    HYFI_PROJECT_NAME: null\n",
      "    HYFI_TASK_NAME: null\n",
      "    HYFI_PROJECT_DESC: null\n",
      "    HYFI_PROJECT_ROOT: null\n",
      "    HYFI_PROJECT_WORKSPACE_NAME: null\n",
      "    HYFI_LOG_LEVEL: WARNING\n",
      "    HYFI_VERBOSE: false\n",
      "    HYFI_NUM_WORKERS: null\n",
      "    CACHED_PATH_CACHE_ROOT: null\n",
      "    CUDA_DEVICE_ORDER: null\n",
      "    CUDA_VISIBLE_DEVICES: null\n",
      "    WANDB_PROJECT: null\n",
      "    WANDB_DISABLED: null\n",
      "    WANDB_DIR: null\n",
      "    WANDB_NOTEBOOK_NAME: null\n",
      "    WANDB_SILENT: null\n",
      "    LABEL_STUDIO_SERVER: null\n",
      "    KMP_DUPLICATE_LIB_OK: null\n",
      "    TOKENIZERS_PARALLELISM: null\n",
      "    WANDB_API_KEY: null\n",
      "    HUGGING_FACE_HUB_TOKEN: null\n",
      "    OPENAI_API_KEY: null\n",
      "    ECOS_API_KEY: null\n",
      "    FRED_API_KEY: null\n",
      "    NASDAQ_API_KEY: null\n",
      "    HF_USER_ACCESS_TOKEN: null\n",
      "  joblib:\n",
      "    num_workers: '-1'\n",
      "    distributed_framework:\n",
      "      backend: joblib\n",
      "      initialize: true\n",
      "      num_workers: '-1'\n",
      "    batcher:\n",
      "      procs: '-1'\n",
      "      minibatch_size: 1000\n",
      "      backend: joblib\n",
      "      task_num_cpus: 1\n",
      "      task_num_gpus: 0\n",
      "      verbose: 10\n",
      "  path:\n",
      "    home: /home/yj.lee\n",
      "    hyfi: /workspace/projects/hyfi/src/hyfi\n",
      "    resources: /workspace/projects/hyfi/src/hyfi/resources\n",
      "    runtime: /workspace/projects/hyfi/tests/notebooks\n",
      "    global_hyfi_root: /home/yj.lee/.hyfi\n",
      "    global_workspace_name: workspace\n",
      "    global_workspace_root: /home/yj.lee/.hyfi/workspace\n",
      "    global_archive: /home/yj.lee/.hyfi/workspace/archive\n",
      "    global_datasets: /home/yj.lee/.hyfi/workspace/datasets\n",
      "    global_models: /home/yj.lee/.hyfi/workspace/models\n",
      "    global_modules: /home/yj.lee/.hyfi/workspace/modules\n",
      "    global_library: /home/yj.lee/.hyfi/workspace/libs\n",
      "    global_logs: /home/yj.lee/.hyfi/workspace/logs\n",
      "    global_cache: /home/yj.lee/.hyfi/workspace/.cache\n",
      "    global_tmp: /home/yj.lee/.hyfi/workspace/.tmp\n",
      "    project_root: /home/yj.lee/.hyfi/workspace/projects/hyfi\n",
      "    project_workspace_name: workspace\n",
      "    project_workspace_root: /home/yj.lee/.hyfi/workspace/projects/hyfi/workspace\n",
      "    project_archive: /home/yj.lee/.hyfi/workspace/projects/hyfi/workspace/archive\n",
      "    project_datasets: /home/yj.lee/.hyfi/workspace/projects/hyfi/workspace/datasets\n",
      "    project_models: /home/yj.lee/.hyfi/workspace/projects/hyfi/workspace/models\n",
      "    project_modules: /home/yj.lee/.hyfi/workspace/projects/hyfi/workspace/modules\n",
      "    project_outputs: /home/yj.lee/.hyfi/workspace/projects/hyfi/workspace/outputs\n",
      "    project_logs: /home/yj.lee/.hyfi/workspace/projects/hyfi/workspace/logs\n",
      "    project_library: /home/yj.lee/.hyfi/workspace/projects/hyfi/workspace/libs\n",
      "    project_cache: /home/yj.lee/.hyfi/workspace/projects/hyfi/workspace/.cache\n",
      "    project_tmp: /home/yj.lee/.hyfi/workspace/projects/hyfi/workspace/.tmp\n",
      "  project_name: hyfi\n",
      "  task_name: test\n",
      "  project_description: ''\n",
      "  project_root: /home/yj.lee/.hyfi/workspace/projects/hyfi\n",
      "  project_workspace_name: workspace\n",
      "  global_hyfi_root: /home/yj.lee/.hyfi\n",
      "  global_workspace_name: workspace\n",
      "  num_workers: '-1'\n",
      "  use_huggingface_hub: false\n",
      "  use_wandb: false\n",
      "  verbose: 'False'\n",
      "\n",
      "DEBUG:hyfi.env:Using default config.\n",
      "DEBUG:hyfi.env:config_module: hyfi.conf\n",
      "DEBUG:hydra.core.utils:Setting JobRuntime:name=app\n",
      "DEBUG:hyfi.env:compose config with overrides: ['+project=__init__', 'project.project_name=hyfi', 'project.task_name=test', 'project.project_description=', 'project.project_root=/home/yj.lee/.hyfi/workspace/projects/hyfi', 'project.project_workspace_name=workspace', 'project.global_hyfi_root=/home/yj.lee/.hyfi', 'project.global_workspace_name=workspace', 'project.num_workers=-1', 'project.use_huggingface_hub=False', 'project.use_wandb=False', 'project.verbose=False']\n",
      "DEBUG:hydra.core.utils:Setting JobRuntime:name=app\n",
      "DEBUG:hyfi.env:Composed config: dotenv:\n",
      "  DOTENV_FILENAME: .env\n",
      "  DOTENV_DIR: /workspace/projects/hyfi/tests/notebooks\n",
      "  DOTENV_PATH: /workspace/projects/hyfi/tests/notebooks/.env\n",
      "  HYFI_RESOURCE_DIR: null\n",
      "  HYFI_GLOBAL_ROOT: null\n",
      "  HYFI_GLOBAL_WORKSPACE_NAME: null\n",
      "  HYFI_PROJECT_NAME: null\n",
      "  HYFI_TASK_NAME: null\n",
      "  HYFI_PROJECT_DESC: null\n",
      "  HYFI_PROJECT_ROOT: null\n",
      "  HYFI_PROJECT_WORKSPACE_NAME: null\n",
      "  HYFI_LOG_LEVEL: WARNING\n",
      "  HYFI_VERBOSE: false\n",
      "  HYFI_NUM_WORKERS: null\n",
      "  CACHED_PATH_CACHE_ROOT: null\n",
      "  CUDA_DEVICE_ORDER: null\n",
      "  CUDA_VISIBLE_DEVICES: null\n",
      "  WANDB_PROJECT: null\n",
      "  WANDB_DISABLED: null\n",
      "  WANDB_DIR: null\n",
      "  WANDB_NOTEBOOK_NAME: null\n",
      "  WANDB_SILENT: null\n",
      "  LABEL_STUDIO_SERVER: null\n",
      "  KMP_DUPLICATE_LIB_OK: null\n",
      "  TOKENIZERS_PARALLELISM: null\n",
      "  WANDB_API_KEY: null\n",
      "  HUGGING_FACE_HUB_TOKEN: null\n",
      "  OPENAI_API_KEY: null\n",
      "  ECOS_API_KEY: null\n",
      "  FRED_API_KEY: null\n",
      "  NASDAQ_API_KEY: null\n",
      "  HF_USER_ACCESS_TOKEN: null\n",
      "joblib:\n",
      "  num_workers: -1\n",
      "  distributed_framework:\n",
      "    backend: joblib\n",
      "    initialize: true\n",
      "    num_workers: -1\n",
      "  batcher:\n",
      "    procs: -1\n",
      "    minibatch_size: 1000\n",
      "    backend: joblib\n",
      "    task_num_cpus: 1\n",
      "    task_num_gpus: 0\n",
      "    verbose: 10\n",
      "path:\n",
      "  home: /home/yj.lee\n",
      "  hyfi: /workspace/projects/hyfi/src/hyfi\n",
      "  resources: /workspace/projects/hyfi/src/hyfi/resources\n",
      "  runtime: /workspace/projects/hyfi/tests/notebooks\n",
      "  global_hyfi_root: /home/yj.lee/.hyfi\n",
      "  global_workspace_name: workspace\n",
      "  global_workspace_root: /home/yj.lee/.hyfi/workspace\n",
      "  global_archive: /home/yj.lee/.hyfi/workspace/archive\n",
      "  global_datasets: /home/yj.lee/.hyfi/workspace/datasets\n",
      "  global_models: /home/yj.lee/.hyfi/workspace/models\n",
      "  global_modules: /home/yj.lee/.hyfi/workspace/modules\n",
      "  global_library: /home/yj.lee/.hyfi/workspace/libs\n",
      "  global_logs: /home/yj.lee/.hyfi/workspace/logs\n",
      "  global_cache: /home/yj.lee/.hyfi/workspace/.cache\n",
      "  global_tmp: /home/yj.lee/.hyfi/workspace/.tmp\n",
      "  project_root: /home/yj.lee/.hyfi/workspace/projects/hyfi\n",
      "  project_workspace_name: workspace\n",
      "  project_workspace_root: /home/yj.lee/.hyfi/workspace/projects/hyfi/workspace\n",
      "  project_archive: /home/yj.lee/.hyfi/workspace/projects/hyfi/workspace/archive\n",
      "  project_datasets: /home/yj.lee/.hyfi/workspace/projects/hyfi/workspace/datasets\n",
      "  project_models: /home/yj.lee/.hyfi/workspace/projects/hyfi/workspace/models\n",
      "  project_modules: /home/yj.lee/.hyfi/workspace/projects/hyfi/workspace/modules\n",
      "  project_outputs: /home/yj.lee/.hyfi/workspace/projects/hyfi/workspace/outputs\n",
      "  project_logs: /home/yj.lee/.hyfi/workspace/projects/hyfi/workspace/logs\n",
      "  project_library: /home/yj.lee/.hyfi/workspace/projects/hyfi/workspace/libs\n",
      "  project_cache: /home/yj.lee/.hyfi/workspace/projects/hyfi/workspace/.cache\n",
      "  project_tmp: /home/yj.lee/.hyfi/workspace/projects/hyfi/workspace/.tmp\n",
      "project_name: hyfi\n",
      "task_name: test\n",
      "project_description: ''\n",
      "project_root: /home/yj.lee/.hyfi/workspace/projects/hyfi\n",
      "project_workspace_name: workspace\n",
      "global_hyfi_root: /home/yj.lee/.hyfi\n",
      "global_workspace_name: workspace\n",
      "num_workers: -1\n",
      "use_huggingface_hub: false\n",
      "use_wandb: false\n",
      "verbose: false\n",
      "\n",
      "DEBUG:hyfi.utils.env:No .env file found in /workspace/projects/hyfi/tests/notebooks/.env, finding .env in parent dirs\n",
      "DEBUG:hyfi.utils.env:Loaded .env from /workspace/projects/hyfi/.env\n",
      "DEBUG:hyfi.env:config_module: hyfi.conf\n",
      "DEBUG:hydra.core.utils:Setting JobRuntime:name=app\n",
      "DEBUG:hyfi.env:compose config with overrides: ['+joblib=__init__', 'joblib.num_workers=-1']\n",
      "DEBUG:hydra.core.utils:Setting JobRuntime:name=app\n",
      "DEBUG:hyfi.env:Composed config: num_workers: -1\n",
      "distributed_framework:\n",
      "  backend: joblib\n",
      "  initialize: true\n",
      "  num_workers: -1\n",
      "batcher:\n",
      "  procs: -1\n",
      "  minibatch_size: 1000\n",
      "  backend: joblib\n",
      "  task_num_cpus: 1\n",
      "  task_num_gpus: 0\n",
      "  verbose: 10\n",
      "\n",
      "DEBUG:hyfi.env:config_module: hyfi.conf\n",
      "DEBUG:hydra.core.utils:Setting JobRuntime:name=app\n",
      "DEBUG:hyfi.env:compose config with overrides: ['+path=__init__', 'path.home=/home/yj.lee', 'path.hyfi=/workspace/projects/hyfi/src/hyfi', 'path.resources=/workspace/projects/hyfi/src/hyfi/resources', 'path.runtime=/workspace/projects/hyfi/tests/notebooks', 'path.global_hyfi_root=/home/yj.lee/.hyfi', 'path.global_workspace_name=workspace', 'path.global_workspace_root=/home/yj.lee/.hyfi/workspace', 'path.global_archive=/home/yj.lee/.hyfi/workspace/archive', 'path.global_datasets=/home/yj.lee/.hyfi/workspace/datasets', 'path.global_models=/home/yj.lee/.hyfi/workspace/models', 'path.global_modules=/home/yj.lee/.hyfi/workspace/modules', 'path.global_library=/home/yj.lee/.hyfi/workspace/libs', 'path.global_logs=/home/yj.lee/.hyfi/workspace/logs', 'path.global_cache=/home/yj.lee/.hyfi/workspace/.cache', 'path.global_tmp=/home/yj.lee/.hyfi/workspace/.tmp', 'path.project_root=/home/yj.lee/.hyfi/workspace/projects/hyfi', 'path.project_workspace_name=workspace', 'path.project_workspace_root=/home/yj.lee/.hyfi/workspace/projects/hyfi/workspace', 'path.project_archive=/home/yj.lee/.hyfi/workspace/projects/hyfi/workspace/archive', 'path.project_datasets=/home/yj.lee/.hyfi/workspace/projects/hyfi/workspace/datasets', 'path.project_models=/home/yj.lee/.hyfi/workspace/projects/hyfi/workspace/models', 'path.project_modules=/home/yj.lee/.hyfi/workspace/projects/hyfi/workspace/modules', 'path.project_outputs=/home/yj.lee/.hyfi/workspace/projects/hyfi/workspace/outputs', 'path.project_logs=/home/yj.lee/.hyfi/workspace/projects/hyfi/workspace/logs', 'path.project_library=/home/yj.lee/.hyfi/workspace/projects/hyfi/workspace/libs', 'path.project_cache=/home/yj.lee/.hyfi/workspace/projects/hyfi/workspace/.cache', 'path.project_tmp=/home/yj.lee/.hyfi/workspace/projects/hyfi/workspace/.tmp']\n",
      "DEBUG:hydra.core.utils:Setting JobRuntime:name=app\n",
      "DEBUG:hyfi.env:Composed config: home: /home/yj.lee\n",
      "hyfi: /workspace/projects/hyfi/src/hyfi\n",
      "resources: /workspace/projects/hyfi/src/hyfi/resources\n",
      "runtime: /workspace/projects/hyfi/tests/notebooks\n",
      "global_hyfi_root: /home/yj.lee/.hyfi\n",
      "global_workspace_name: workspace\n",
      "global_workspace_root: /home/yj.lee/.hyfi/workspace\n",
      "global_archive: /home/yj.lee/.hyfi/workspace/archive\n",
      "global_datasets: /home/yj.lee/.hyfi/workspace/datasets\n",
      "global_models: /home/yj.lee/.hyfi/workspace/models\n",
      "global_modules: /home/yj.lee/.hyfi/workspace/modules\n",
      "global_library: /home/yj.lee/.hyfi/workspace/libs\n",
      "global_logs: /home/yj.lee/.hyfi/workspace/logs\n",
      "global_cache: /home/yj.lee/.hyfi/workspace/.cache\n",
      "global_tmp: /home/yj.lee/.hyfi/workspace/.tmp\n",
      "project_root: /home/yj.lee/.hyfi/workspace/projects/hyfi\n",
      "project_workspace_name: workspace\n",
      "project_workspace_root: /home/yj.lee/.hyfi/workspace/projects/hyfi/workspace\n",
      "project_archive: /home/yj.lee/.hyfi/workspace/projects/hyfi/workspace/archive\n",
      "project_datasets: /home/yj.lee/.hyfi/workspace/projects/hyfi/workspace/datasets\n",
      "project_models: /home/yj.lee/.hyfi/workspace/projects/hyfi/workspace/models\n",
      "project_modules: /home/yj.lee/.hyfi/workspace/projects/hyfi/workspace/modules\n",
      "project_outputs: /home/yj.lee/.hyfi/workspace/projects/hyfi/workspace/outputs\n",
      "project_logs: /home/yj.lee/.hyfi/workspace/projects/hyfi/workspace/logs\n",
      "project_library: /home/yj.lee/.hyfi/workspace/projects/hyfi/workspace/libs\n",
      "project_cache: /home/yj.lee/.hyfi/workspace/projects/hyfi/workspace/.cache\n",
      "project_tmp: /home/yj.lee/.hyfi/workspace/projects/hyfi/workspace/.tmp\n",
      "\n",
      "DEBUG:hyfi.utils.env:No .env file found in /workspace/projects/hyfi/tests/notebooks/.env, finding .env in parent dirs\n",
      "DEBUG:hyfi.utils.env:Loaded .env from /workspace/projects/hyfi/.env\n",
      "DEBUG:hyfi.env:Set environment variable HYFI_PROJECT_ROOT=/home/yj.lee/.hyfi/workspace/projects/hyfi\n",
      "DEBUG:hyfi.env:Set environment variable HYFI_GLOBAL_ROOT=/home/yj.lee/.hyfi\n",
      "DEBUG:hyfi.env:Set environment variable CACHED_PATH_CACHE_ROOT=/home/yj.lee/.hyfi/workspace/.cache/cached_path\n",
      "DEBUG:hyfi.env:Set environment variable WANDB_DIR=/home/yj.lee/.hyfi/workspace/projects/hyfi/workspace/logs\n",
      "DEBUG:hyfi.env:Set environment variable WANDB_PROJECT=hyfi\n",
      "DEBUG:hyfi.env:Set environment variable WANDB_NOTEBOOK_NAME=/home/yj.lee/.hyfi/workspace/projects/hyfi/workspace/logs/test-nb\n",
      "DEBUG:hyfi.env:Set environment variable WANDB_SILENT=True\n",
      "INFO:hyfi.env:initialized batcher with <hyfi.utils.batch.batcher.Batcher object at 0x7f65c7774520>\n"
     ]
    },
    {
     "name": "stdout",
     "output_type": "stream",
     "text": [
      "project_dir: /home/yj.lee/.hyfi/workspace/projects/hyfi\n",
      "project_workspace_dir: /home/yj.lee/.hyfi/workspace/projects/hyfi/workspace\n"
     ]
    }
   ],
   "source": [
    "if HyFI.is_colab():\n",
    "    HyFI.mount_google_drive()\n",
    "\n",
    "ws = HyFI.init_workspace(\n",
    "    project_name=\"hyfi\",\n",
    "    task_name=\"test\",\n",
    "    log_level=\"DEBUG\",\n",
    "    verbose=True,\n",
    ")\n",
    "\n",
    "print(\"project_dir:\", ws.project_dir)\n",
    "print(\"project_workspace_dir:\", ws.project_workspace_dir)"
   ]
  },
  {
   "cell_type": "code",
   "execution_count": 6,
   "metadata": {},
   "outputs": [
    {
     "data": {
      "text/plain": [
       "{'config_name': '__init__',\n",
       " 'DOTENV_FILENAME': '.env',\n",
       " 'DOTENV_DIR': '/workspace/projects/hyfi',\n",
       " 'DOTENV_PATH': '/workspace/projects/hyfi/.env',\n",
       " 'HYFI_RESOURCE_DIR': '',\n",
       " 'HYFI_GLOBAL_ROOT': '/home/yj.lee/.hyfi',\n",
       " 'HYFI_GLOBAL_WORKSPACE_NAME': 'workspace',\n",
       " 'HYFI_PROJECT_NAME': 'hyfi',\n",
       " 'HYFI_TASK_NAME': 'test',\n",
       " 'HYFI_PROJECT_DESC': '',\n",
       " 'HYFI_PROJECT_ROOT': '/home/yj.lee/.hyfi/workspace/projects/hyfi',\n",
       " 'HYFI_PROJECT_WORKSPACE_NAME': 'workspace',\n",
       " 'HYFI_LOG_LEVEL': 'DEBUG',\n",
       " 'HYFI_VERBOSE': False,\n",
       " 'HYFI_NUM_WORKERS': -1,\n",
       " 'CACHED_PATH_CACHE_ROOT': '/home/yj.lee/.hyfi/workspace/.cache/cached_path',\n",
       " 'CUDA_DEVICE_ORDER': 'PCI_BUS_ID',\n",
       " 'CUDA_VISIBLE_DEVICES': '',\n",
       " 'WANDB_PROJECT': 'hyfi',\n",
       " 'WANDB_DISABLED': '',\n",
       " 'WANDB_DIR': '/home/yj.lee/.hyfi/workspace/projects/hyfi/workspace/logs',\n",
       " 'WANDB_NOTEBOOK_NAME': '/home/yj.lee/.hyfi/workspace/projects/hyfi/workspace/logs/test-nb',\n",
       " 'WANDB_SILENT': True,\n",
       " 'LABEL_STUDIO_SERVER': '',\n",
       " 'KMP_DUPLICATE_LIB_OK': 'True',\n",
       " 'TOKENIZERS_PARALLELISM': False,\n",
       " 'WANDB_API_KEY': None,\n",
       " 'HUGGING_FACE_HUB_TOKEN': None,\n",
       " 'OPENAI_API_KEY': SecretStr('**********'),\n",
       " 'ECOS_API_KEY': None,\n",
       " 'FRED_API_KEY': None,\n",
       " 'NASDAQ_API_KEY': None,\n",
       " 'HF_USER_ACCESS_TOKEN': None,\n",
       " 'LABEL_STUDIO_USER_TOKEN': None}"
      ]
     },
     "execution_count": 6,
     "metadata": {},
     "output_type": "execute_result"
    }
   ],
   "source": [
    "ws.dotenv.dict()"
   ]
  },
  {
   "attachments": {},
   "cell_type": "markdown",
   "metadata": {},
   "source": [
    "## Compose Configuration\n",
    "\n",
    "We can use the `HyFI.compose` function to load a configuration file. In this example, we'll use the default configuration by specifying `path=__default__`.\n"
   ]
  },
  {
   "cell_type": "code",
   "execution_count": 7,
   "metadata": {},
   "outputs": [
    {
     "name": "stderr",
     "output_type": "stream",
     "text": [
      "DEBUG:hyfi.env:config_module: hyfi.conf\n",
      "DEBUG:hydra.core.utils:Setting JobRuntime:name=app\n"
     ]
    },
    {
     "name": "stderr",
     "output_type": "stream",
     "text": [
      "DEBUG:hyfi.env:compose config with overrides: ['+path=__default__']\n",
      "DEBUG:hydra.core.utils:Setting JobRuntime:name=app\n",
      "DEBUG:hyfi.env:Composed config: project_workspace_root: /home/yj.lee/.hyfi/workspace/projects/hyfi/workspace\n",
      "task_name: default-task\n",
      "task_root: /home/yj.lee/.hyfi/workspace/projects/hyfi/workspace/default-task\n",
      "task_outputs: /home/yj.lee/.hyfi/workspace/projects/hyfi/workspace/default-task/outputs\n",
      "task_datasets: /home/yj.lee/.hyfi/workspace/projects/hyfi/workspace/default-task/datasets\n",
      "task_library: /home/yj.lee/.hyfi/workspace/projects/hyfi/workspace/default-task/libs\n",
      "task_models: /home/yj.lee/.hyfi/workspace/projects/hyfi/workspace/default-task/models\n",
      "task_cache: /home/yj.lee/.hyfi/workspace/projects/hyfi/workspace/default-task/cache\n",
      "task_tmp: /home/yj.lee/.hyfi/workspace/projects/hyfi/workspace/default-task/tmp\n",
      "task_log: /home/yj.lee/.hyfi/workspace/projects/hyfi/workspace/default-task/logs\n",
      "\n"
     ]
    }
   ],
   "source": [
    "cfg = HyFI.compose(\"path=__default__\")"
   ]
  },
  {
   "attachments": {},
   "cell_type": "markdown",
   "metadata": {},
   "source": [
    "## Display Configuration\n",
    "\n",
    "Now, let's print the loaded configuration using the `HyFI.print` function.\n"
   ]
  },
  {
   "cell_type": "code",
   "execution_count": 8,
   "metadata": {},
   "outputs": [
    {
     "name": "stdout",
     "output_type": "stream",
     "text": [
      "{'project_workspace_root': '/home/yj.lee/.hyfi/workspace/projects/hyfi/workspace',\n",
      " 'task_cache': '/home/yj.lee/.hyfi/workspace/projects/hyfi/workspace/default-task/cache',\n",
      " 'task_datasets': '/home/yj.lee/.hyfi/workspace/projects/hyfi/workspace/default-task/datasets',\n",
      " 'task_library': '/home/yj.lee/.hyfi/workspace/projects/hyfi/workspace/default-task/libs',\n",
      " 'task_log': '/home/yj.lee/.hyfi/workspace/projects/hyfi/workspace/default-task/logs',\n",
      " 'task_models': '/home/yj.lee/.hyfi/workspace/projects/hyfi/workspace/default-task/models',\n",
      " 'task_name': 'default-task',\n",
      " 'task_outputs': '/home/yj.lee/.hyfi/workspace/projects/hyfi/workspace/default-task/outputs',\n",
      " 'task_root': '/home/yj.lee/.hyfi/workspace/projects/hyfi/workspace/default-task',\n",
      " "
     ]
    },
    {
     "name": "stdout",
     "output_type": "stream",
     "text": [
      "'task_tmp': '/home/yj.lee/.hyfi/workspace/projects/hyfi/workspace/default-task/tmp'}\n"
     ]
    }
   ],
   "source": [
    "HyFI.print(cfg)"
   ]
  },
  {
   "attachments": {},
   "cell_type": "markdown",
   "metadata": {},
   "source": [
    "That's it! This example demonstrated the basic usage of the `hyfi_template` package. You can now use this package to manage your own projects and tasks in a structured manner.\n"
   ]
  }
 ],
 "metadata": {
  "colab": {
   "name": "corpus.ipynb",
   "provenance": []
  },
  "interpreter": {
   "hash": "f869af7787e6a1c49e09e367fc6e1b81d93d1c6583b43249c80edc047bd13cb2"
  },
  "kernelspec": {
   "display_name": "Python 3",
   "language": "python",
   "name": "python3"
  },
  "language_info": {
   "codemirror_mode": {
    "name": "ipython",
    "version": 3
   },
   "file_extension": ".py",
   "mimetype": "text/x-python",
   "name": "python",
   "nbconvert_exporter": "python",
   "pygments_lexer": "ipython3",
   "version": "3.8.10"
  },
  "widgets": {
   "application/vnd.jupyter.widget-state+json": {
    "state": {},
    "version_major": 2,
    "version_minor": 0
   }
  }
 },
 "nbformat": 4,
 "nbformat_minor": 1
}
