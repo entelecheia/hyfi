{
 "cells": [
  {
   "cell_type": "code",
   "execution_count": 1,
   "metadata": {},
   "outputs": [],
   "source": [
    "from hyfi.main import HyFI\n"
   ]
  },
  {
   "cell_type": "code",
   "execution_count": 2,
   "metadata": {},
   "outputs": [
    {
     "name": "stdout",
     "output_type": "stream",
     "text": [
      "job1\n"
     ]
    }
   ],
   "source": [
    "config = HyFI.compose(\"jobs=job1\")\n",
    "HyFI.print(config)\n"
   ]
  },
  {
   "cell_type": "code",
   "execution_count": 3,
   "metadata": {},
   "outputs": [
    {
     "name": "stdout",
     "output_type": "stream",
     "text": [
      "{'project': {'_config_name_': '__init__',\n",
      "             'dotenv': {'CACHED_PATH_CACHE_ROOT': None,\n",
      "                        'CUDA_DEVICE_ORDER': None,\n",
      "                        'CUDA_VISIBLE_DEVICES': None,\n",
      "                        'DOTENV_DIR': '/mnt/nvme1n1p2/home/yj.lee/workspace/projects/hyfi/tests/notebooks',\n",
      "                        'DOTENV_FILENAME': '.env',\n",
      "                        'DOTENV_PATH': '/mnt/nvme1n1p2/home/yj.lee/workspace/projects/hyfi/tests/notebooks/.env',\n",
      "                        'ECOS_API_KEY': None,\n",
      "                        'FRED_API_KEY': None,\n",
      "                        'HF_USER_ACCESS_TOKEN': None,\n",
      "                        'HUGGING_FACE_HUB_TOKEN': None,\n",
      "                        'HYFI_GLOBAL_ROOT': None,\n",
      "                        'HYFI_GLOBAL_WORKSPACE_NAME': None,\n",
      "                        'HYFI_LOG_LEVEL': 'WARNING',\n",
      "                        'HYFI_NUM_WORKERS': None,\n",
      "                        'HYFI_PROJECT_DESC': None,\n",
      "                        'HYFI_PROJECT_NAME': None,\n",
      "                        'HYFI_PROJECT_ROOT': None,\n",
      "                        'HYFI_PROJECT_WORKSPACE_NAME': None,\n",
      "                        'HYFI_RESOURCE_DIR': None,\n",
      "                        'HYFI_VERBOSE': False,\n",
      "                        'KMP_DUPLICATE_LIB_OK': None,\n",
      "                        'LABEL_STUDIO_SERVER': None,\n",
      "                        'NASDAQ_API_KEY': None,\n",
      "                        'OPENAI_API_KEY': None,\n",
      "                        'TOKENIZERS_PARALLELISM': None,\n",
      "                        'WANDB_API_KEY': None,\n",
      "                        'WANDB_DIR': None,\n",
      "                        'WANDB_DISABLED': None,\n",
      "                        'WANDB_NOTEBOOK_NAME': None,\n",
      "                        'WANDB_PROJECT': None,\n",
      "                        'WANDB_SILENT': None},\n",
      "             'global_hyfi_root': '/home/yj.lee/.hyfi',\n",
      "             'global_workspace_name': 'workspace',\n",
      "             'joblib': {'batcher': {'backend': 'joblib',\n",
      "                                    'minibatch_size': 1000,\n",
      "                                    'procs': '1',\n",
      "                                    'task_num_cpus': 1,\n",
      "                                    'task_num_gpus': 0,\n",
      "                                    'verbose': 10},\n",
      "                        'distributed_framework': {'backend': 'joblib',\n",
      "                                                  'initialize': True,\n",
      "                                                  'num_workers': '1'},\n",
      "                        'num_workers': '1'},\n",
      "             'num_workers': '1',\n",
      "             'path': {'dirnames': {'archive': 'archive',\n",
      "                                   'cache': '.cache',\n",
      "                                   'datasets': 'datasets',\n",
      "                                   'inputs': 'inputs',\n",
      "                                   'library': 'libs',\n",
      "                                   'logs': 'logs',\n",
      "                                   'models': 'models',\n",
      "                                   'modules': 'modules',\n",
      "                                   'outputs': 'outputs',\n",
      "                                   'tmp': 'tmp'},\n",
      "                      'global_hyfi_root': '/home/yj.lee/.hyfi',\n",
      "                      'global_workspace_name': 'workspace',\n",
      "                      'home': '/home/yj.lee',\n",
      "                      'hyfi': '/mnt/nvme1n1p2/home/yj.lee/workspace/projects/hyfi/src/hyfi',\n",
      "                      'project_root': '/home/yj.lee/.hyfi/workspace/projects/test-project',\n",
      "                      'project_workspace_name': 'workspace',\n",
      "                      'resources': '/mnt/nvme1n1p2/home/yj.lee/workspace/projects/hyfi/src/hyfi/resources',\n",
      "                      'runtime': '/mnt/nvme1n1p2/home/yj.lee/workspace/projects/hyfi/tests/notebooks'},\n",
      "             'project_description': '',\n",
      "             'project_name': 'test-project',\n",
      "             'project_root': '/home/yj.lee/.hyfi/workspace/projects/test-project',\n",
      "             'project_workspace_name': 'workspace',\n",
      "             'use_huggingface_hub': False,\n",
      "             'use_wandb': False,\n",
      "             'verbose': False},\n",
      " 'workflows': '__init__'}\n"
     ]
    }
   ],
   "source": [
    "config = HyFI.compose(\n",
    "    \"workflows=__init__\", overrides=[\"+project=__init__\"], global_package=True\n",
    ")\n",
    "HyFI.print(config)\n"
   ]
  },
  {
   "cell_type": "code",
   "execution_count": null,
   "metadata": {},
   "outputs": [],
   "source": []
  }
 ],
 "metadata": {
  "kernelspec": {
   "display_name": "hyfi",
   "language": "python",
   "name": "python3"
  },
  "language_info": {
   "codemirror_mode": {
    "name": "ipython",
    "version": 3
   },
   "file_extension": ".py",
   "mimetype": "text/x-python",
   "name": "python",
   "nbconvert_exporter": "python",
   "pygments_lexer": "ipython3",
   "version": "3.8.10"
  },
  "orig_nbformat": 4
 },
 "nbformat": 4,
 "nbformat_minor": 2
}
