{
 "cells": [
  {
   "attachments": {},
   "cell_type": "markdown",
   "metadata": {
    "id": "cjgz1WTcPWee"
   },
   "source": [
    "# HyFI Test Notebook\n",
    "\n",
    "This Jupyter Notebook is used to test the HyFI package. It contains examples of how to use the package and how to create a new HyFI model.\n"
   ]
  },
  {
   "cell_type": "code",
   "execution_count": 1,
   "metadata": {},
   "outputs": [],
   "source": [
    "from hyfi.main import HyFI\n"
   ]
  },
  {
   "cell_type": "code",
   "execution_count": 2,
   "metadata": {},
   "outputs": [],
   "source": [
    "options = [\"English\", \"Spanish\", \"French\"]\n",
    "from_lang = HyFI.create_dropdown(options, \"English\", \"From Language\")\n",
    "to_lang = HyFI.create_dropdown(options, \"Spanish\", \"To Language\")\n",
    "input_prompt = HyFI.create_textarea(\n",
    "    \"I am a student\",\n",
    "    \"Input\",\n",
    "    \"Enter the sentence to translate\",\n",
    "    style={\"description_width\": \"50px\"},\n",
    "    layout={\"width\": \"95%\", \"height\": \"100px\"},\n",
    ")\n",
    "generated_txt = HyFI.create_textarea(\n",
    "    \"\",\n",
    "    \"Output\",\n",
    "    \"Translated sentence\",\n",
    "    style={\"description_width\": \"50px\"},\n",
    "    layout={\"width\": \"95%\", \"height\": \"100px\"},\n",
    ")\n",
    "translate_button = HyFI.create_button(\"Translate\", layout={\"width\": \"95%\"})\n"
   ]
  },
  {
   "cell_type": "code",
   "execution_count": 3,
   "metadata": {},
   "outputs": [
    {
     "data": {
      "application/vnd.jupyter.widget-view+json": {
       "model_id": "104f7f3de553467c982d73f51c24e771",
       "version_major": 2,
       "version_minor": 0
      },
      "text/plain": [
       "GridspecLayout(children=(Dropdown(description='From Language', layout=Layout(grid_area='widget001', width='aut…"
      ]
     },
     "execution_count": 3,
     "metadata": {},
     "output_type": "execute_result"
    }
   ],
   "source": [
    "import ipywidgets as widgets\n",
    "\n",
    "grid = widgets.GridspecLayout(4, 2, height=\"300px\")\n",
    "grid[0, 0] = from_lang\n",
    "grid[0, 1] = to_lang\n",
    "grid[1, :] = input_prompt\n",
    "grid[2, :] = generated_txt\n",
    "grid[3, :] = translate_button\n",
    "grid\n"
   ]
  },
  {
   "cell_type": "code",
   "execution_count": 4,
   "metadata": {},
   "outputs": [],
   "source": [
    "instruction = (\n",
    "    \"Instruction: Given an input question, respond with syntactically correct PostgreSQL. Only use table called 'employees'.\\n\"\n",
    "    + \"Input: Select names of all the employees who are working under 'Peter'.\\nPostgreSQL query: \"\n",
    ")\n",
    "input_prompt = HyFI.create_textarea(\n",
    "    instruction,\n",
    "    \"Input\",\n",
    "    \"Enter the instruction to generate\",\n",
    "    style={\"description_width\": \"50px\"},\n",
    "    layout={\"width\": \"95%\", \"height\": \"100px\"},\n",
    ")\n",
    "\n",
    "generated_txt = HyFI.create_textarea(\n",
    "    \"\",\n",
    "    \"Output\",\n",
    "    \"Generated SQL\",\n",
    "    style={\"description_width\": \"50px\"},\n",
    "    layout={\"width\": \"95%\", \"height\": \"150px\"},\n",
    ")\n",
    "generate_button = HyFI.create_button(\"Generate SQL\", layout={\"width\": \"95%\"})\n"
   ]
  },
  {
   "cell_type": "code",
   "execution_count": 5,
   "metadata": {},
   "outputs": [
    {
     "data": {
      "application/vnd.jupyter.widget-view+json": {
       "model_id": "2b563554b923423ca21bec26ecc53e23",
       "version_major": 2,
       "version_minor": 0
      },
      "text/plain": [
       "GridspecLayout(children=(Textarea(value=\"Instruction: Given an input question, respond with syntactically corr…"
      ]
     },
     "execution_count": 5,
     "metadata": {},
     "output_type": "execute_result"
    }
   ],
   "source": [
    "import ipywidgets as widgets\n",
    "\n",
    "grid = widgets.GridspecLayout(3, 1, height=\"300px\", align_items=\"center\")\n",
    "grid[0, 0] = input_prompt\n",
    "grid[1, 0] = generated_txt\n",
    "grid[2, 0] = generate_button\n",
    "grid\n"
   ]
  },
  {
   "cell_type": "code",
   "execution_count": null,
   "metadata": {},
   "outputs": [],
   "source": []
  }
 ],
 "metadata": {
  "colab": {
   "name": "corpus.ipynb",
   "provenance": []
  },
  "interpreter": {
   "hash": "f869af7787e6a1c49e09e367fc6e1b81d93d1c6583b43249c80edc047bd13cb2"
  },
  "kernelspec": {
   "display_name": "Python 3",
   "language": "python",
   "name": "python3"
  },
  "language_info": {
   "codemirror_mode": {
    "name": "ipython",
    "version": 3
   },
   "file_extension": ".py",
   "mimetype": "text/x-python",
   "name": "python",
   "nbconvert_exporter": "python",
   "pygments_lexer": "ipython3",
   "version": "3.8.10"
  },
  "widgets": {
   "application/vnd.jupyter.widget-state+json": {
    "state": {},
    "version_major": 2,
    "version_minor": 0
   }
  }
 },
 "nbformat": 4,
 "nbformat_minor": 1
}
