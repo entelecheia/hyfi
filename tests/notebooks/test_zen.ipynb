{
 "cells": [
  {
   "cell_type": "code",
   "execution_count": 1,
   "metadata": {},
   "outputs": [],
   "source": [
    "from hydra_zen import make_custom_builds_fn, store, zen"
   ]
  },
  {
   "cell_type": "code",
   "execution_count": 2,
   "metadata": {},
   "outputs": [
    {
     "name": "stdout",
     "output_type": "stream",
     "text": [
      "name='HyFI' authors='Young Joon Lee <entelecheia@hotmail.com>' description='Hydra Fast Interface (Hydra and Pydantic based interface framework)' homepage='https://hyfi.entelecheia.ai' license='MIT' version='1.0.5'\n"
     ]
    }
   ],
   "source": [
    "from hyfi import about\n",
    "\n",
    "print(about)"
   ]
  },
  {
   "cell_type": "code",
   "execution_count": 3,
   "metadata": {},
   "outputs": [],
   "source": [
    "from hyfi.core.config import HyfiConfig"
   ]
  },
  {
   "cell_type": "code",
   "execution_count": 4,
   "metadata": {},
   "outputs": [],
   "source": [
    "h = HyfiConfig()"
   ]
  },
  {
   "cell_type": "code",
   "execution_count": 5,
   "metadata": {},
   "outputs": [
    {
     "name": "stdout",
     "output_type": "stream",
     "text": [
      "{'about': None,\n",
      " 'copier': None,\n",
      " 'debug_mode': False,\n",
      " 'hydra': None,\n",
      " 'hyfi_config_module': 'hyfi.conf',\n",
      " 'hyfi_config_path': 'pkg://hyfi.conf',\n",
      " 'hyfi_user_config_path': '.',\n",
      " 'logging_level': 'WARNING',\n",
      " 'print_config': False,\n",
      " 'project': None,\n",
      " 'resolve': False,\n",
      " 'task': None,\n",
      " 'verbose': False}\n"
     ]
    }
   ],
   "source": [
    "from pprint import pprint\n",
    "\n",
    "pprint(h.model_dump())\n"
   ]
  },
  {
   "cell_type": "code",
   "execution_count": 6,
   "metadata": {},
   "outputs": [
    {
     "name": "stdout",
     "output_type": "stream",
     "text": [
      "_target_: hyfi.core.config.HyfiConfig\n",
      "hyfi_config_path: pkg://hyfi.conf\n",
      "hyfi_config_module: hyfi.conf\n",
      "hyfi_user_config_path: ''\n",
      "debug_mode: false\n",
      "print_config: false\n",
      "resolve: false\n",
      "verbose: false\n",
      "logging_level: WARNING\n",
      "hydra: null\n",
      "about: null\n",
      "copier: null\n",
      "project: null\n",
      "task: null\n",
      "\n"
     ]
    }
   ],
   "source": [
    "from hydra_zen import builds, instantiate, to_yaml\n",
    "\n",
    "\n",
    "def print_yaml(x):\n",
    "    print(to_yaml(x))\n",
    "\n",
    "\n",
    "HiConf = builds(HyfiConfig, populate_full_signature=True)\n",
    "\n",
    "print_yaml(HiConf)"
   ]
  },
  {
   "cell_type": "code",
   "execution_count": 5,
   "metadata": {},
   "outputs": [],
   "source": [
    "builds = make_custom_builds_fn(populate_full_signature=True)"
   ]
  },
  {
   "cell_type": "code",
   "execution_count": 2,
   "metadata": {},
   "outputs": [
    {
     "name": "stdout",
     "output_type": "stream",
     "text": [
      "job1\n"
     ]
    }
   ],
   "source": [
    "# generating configs\n",
    "starter_gear = builds(inventory, gold=10, weapon=\"stick\", costume=\"tunic\")\n",
    "\n",
    "CharConf = builds(Character, inventory=starter_gear)\n"
   ]
  },
  {
   "cell_type": "code",
   "execution_count": null,
   "metadata": {},
   "outputs": [],
   "source": []
  }
 ],
 "metadata": {
  "kernelspec": {
   "display_name": "hyfi",
   "language": "python",
   "name": "python3"
  },
  "language_info": {
   "codemirror_mode": {
    "name": "ipython",
    "version": 3
   },
   "file_extension": ".py",
   "mimetype": "text/x-python",
   "name": "python",
   "nbconvert_exporter": "python",
   "pygments_lexer": "ipython3",
   "version": "3.8.10"
  },
  "orig_nbformat": 4
 },
 "nbformat": 4,
 "nbformat_minor": 2
}
